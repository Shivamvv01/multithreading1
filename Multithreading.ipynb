{
 "cells": [
  {
   "cell_type": "markdown",
   "id": "b2f5502b-6709-4e09-912a-4c893c12e03d",
   "metadata": {},
   "source": [
    "Q1: What is Multi Threading in Python? Why it is used? Name the module used to handle threads in python."
   ]
  },
  {
   "cell_type": "markdown",
   "id": "fbf4320c-bff0-4573-ae0b-28725274293c",
   "metadata": {},
   "source": [
    "Multithreading in Python is a programming technique that allows a program to perform multiple tasks simultaneously within a single process. It involves creating multiple threads of execution within a single program, with each thread running concurrently and independently.\n",
    "\n",
    "Multithreading is used in Python to improve the performance of programs by allowing them to execute multiple tasks simultaneously, thereby reducing the time taken to execute the program. This is particularly useful when working with time-consuming operations such as file I/O, network I/O, or CPU-bound computations.\n",
    "\n",
    "Python provides a built-in module called threading to handle threads. This module allows developers to create, start, pause, resume, and stop threads in Python programs. It also provides synchronization primitives such as locks, semaphores, and conditions that can be used to coordinate the activities of multiple threads.\n",
    "\n",
    "The threading module in Python uses a high-level approach to threading, making it easy to use and understand. It abstracts away many of the low-level details of thread management, making it easier to write thread-safe code in Python."
   ]
  },
  {
   "cell_type": "markdown",
   "id": "0da3c097-71bc-45be-9c8f-3252a5d82735",
   "metadata": {},
   "source": [
    "Q2: Why Threading Module is used ? Write the use of following functions\n",
    "\n",
    "activeCount()\n",
    "\n",
    "currentThread()\n",
    "\n",
    "enumerate()"
   ]
  },
  {
   "cell_type": "markdown",
   "id": "1493a775-17d9-40d6-a971-508e8a48cadd",
   "metadata": {},
   "source": [
    "The threading module in Python is used to create, manage, and work with threads in Python programs. It provides a high-level interface to manage threads and allows developers to create multi-threaded applications with ease. The module provides several functions that help developers manage threads effectively.\n",
    "\n",
    "Here's the use of the following functions:\n",
    "\n",
    "activeCount(): This function is used to return the number of currently active threads in the program. It can be useful in determining whether all the threads in the program have completed execution, or to keep track of the number of threads currently running.\n",
    "\n",
    "currentThread(): This function is used to return a reference to the currently executing thread. It can be used to access the properties of the thread, such as its name or thread ID, and to perform operations such as pausing or resuming the thread.\n",
    "\n",
    "enumerate(): This function is used to return a list of all currently active threads in the program. It can be useful in debugging multi-threaded programs, as it allows developers to inspect the properties of all threads and to determine which threads are currently running or blocked. The returned list contains Thread objects for each active thread, which can be used to perform operations such as pausing or resuming the thread."
   ]
  },
  {
   "cell_type": "markdown",
   "id": "ee611b6f-53a6-479e-841b-d91969ac402e",
   "metadata": {},
   "source": [
    "Q3: Explain the following functions:\n",
    "\n",
    "run()\n",
    "\n",
    "start()\n",
    "\n",
    "join()\n",
    "\n",
    "isAlive()"
   ]
  },
  {
   "cell_type": "markdown",
   "id": "e073bc5e-727a-403a-b95b-d4cf0cbf6835",
   "metadata": {},
   "source": [
    "The threading module in Python provides several functions that allow developers to manage and control threads in Python programs. Here's an explanation of the following functions:\n",
    "\n",
    "run(): This method is called when a thread is started using the start() method. It contains the code that will be executed by the thread when it starts running. The run() method should be overridden by a subclass of the Thread class to define the behavior of the thread.\n",
    "\n",
    "start(): This method is used to start a thread. When the start() method is called, a new thread of execution is created, and the run() method of the thread is called in that new thread. It is important to note that the start() method does not block the main thread; it returns immediately, allowing the main thread to continue executing while the new thread runs concurrently.\n",
    "\n",
    "join(): This method is used to wait for a thread to complete execution. When the join() method is called on a thread, the calling thread blocks until the target thread completes execution. This can be useful in situations where one thread needs to wait for another thread to finish its work before proceeding.\n",
    "\n",
    "isAlive(): This method is used to determine whether a thread is currently executing. When called on a thread object, it returns True if the thread is currently running or False otherwise. This can be useful in situations where one thread needs to check whether another thread is still executing before performing some operation."
   ]
  },
  {
   "cell_type": "markdown",
   "id": "838fbab8-c9f5-41be-b811-b3cd8eeaa6f7",
   "metadata": {},
   "source": [
    "Q4: Write a python program that creates two threads. Thread 1 must print list of squares and Thread 2 must print list of cubes."
   ]
  },
  {
   "cell_type": "code",
   "execution_count": 7,
   "id": "c1d35533-aa4d-44cf-a36a-2372df9ed474",
   "metadata": {},
   "outputs": [
    {
     "data": {
      "text/plain": [
       "[<Thread(Thread-80 (function), initial)>,\n",
       " <Thread(Thread-81 (function), initial)>,\n",
       " <Thread(Thread-82 (function), initial)>,\n",
       " <Thread(Thread-83 (function), initial)>,\n",
       " <Thread(Thread-84 (function), initial)>,\n",
       " <Thread(Thread-85 (function), initial)>,\n",
       " <Thread(Thread-86 (function), initial)>,\n",
       " <Thread(Thread-87 (function), initial)>,\n",
       " <Thread(Thread-88 (function), initial)>,\n",
       " <Thread(Thread-89 (function), initial)>,\n",
       " <Thread(Thread-90 (function), initial)>,\n",
       " <Thread(Thread-91 (function), initial)>,\n",
       " <Thread(Thread-92 (function), initial)>,\n",
       " <Thread(Thread-93 (function), initial)>,\n",
       " <Thread(Thread-94 (function), initial)>,\n",
       " <Thread(Thread-95 (function), initial)>,\n",
       " <Thread(Thread-96 (function), initial)>,\n",
       " <Thread(Thread-97 (function), initial)>,\n",
       " <Thread(Thread-98 (function), initial)>,\n",
       " <Thread(Thread-99 (function), initial)>,\n",
       " <Thread(Thread-100 (function), initial)>]"
      ]
     },
     "execution_count": 7,
     "metadata": {},
     "output_type": "execute_result"
    }
   ],
   "source": [
    "import threading \n",
    "def function(x):\n",
    "    print(x ,end=\" \")\n",
    "thread1=[threading.Thread(target=function , args=(pow(z,2),)) for z in range(11)]\n",
    "thread2=[threading.Thread(target=function , args=(pow(z,3),)) for z in range(21)]\n",
    "thread1\n",
    "thread2"
   ]
  },
  {
   "cell_type": "code",
   "execution_count": 8,
   "id": "7d32fb52-ca7d-442e-b39d-645579caac94",
   "metadata": {},
   "outputs": [
    {
     "name": "stdout",
     "output_type": "stream",
     "text": [
      "0 1 4 9 16 25 36 49 64 81 100 "
     ]
    }
   ],
   "source": [
    "for k in thread1 :\n",
    "    k.start()"
   ]
  },
  {
   "cell_type": "code",
   "execution_count": 9,
   "id": "6c1084d7-82d1-4030-91ce-e7c517e49a1f",
   "metadata": {},
   "outputs": [
    {
     "name": "stdout",
     "output_type": "stream",
     "text": [
      "0 1 8 27 64 125 216 343 512 729 1000 1331 1728 2197 2744 3375 4096 4913 5832 6859 8000 "
     ]
    }
   ],
   "source": [
    "for k in thread2 :\n",
    "    k.start()"
   ]
  },
  {
   "cell_type": "markdown",
   "id": "c40c4d3a-3978-47d8-84b3-c1ea9cb8702a",
   "metadata": {},
   "source": [
    "Q5: State advantages and disadvantages of Multithreading."
   ]
  },
  {
   "cell_type": "markdown",
   "id": "99b687bd-78de-40de-b18b-32ff543d07b3",
   "metadata": {},
   "source": [
    "Multithreading is a programming technique that allows multiple threads of execution to run concurrently within a single process. Here are some advantages and disadvantages of using multithreading:\n",
    "\n",
    "Advantages:\n",
    "\n",
    "Improved performance: Multithreading can improve the performance of a program by allowing it to take advantage of multiple CPUs or cores. By dividing a task into multiple threads, a program can execute multiple tasks simultaneously, reducing overall execution time.\n",
    "\n",
    "Resource sharing: Multithreading allows multiple threads to share the same resources, such as memory and I/O devices. This can reduce the amount of memory required by a program and allow it to more efficiently use system resources.\n",
    "\n",
    "Responsiveness: Multithreading can improve the responsiveness of a program by allowing it to continue executing while waiting for I/O operations or other time-consuming tasks.\n",
    "\n",
    "Simplified program design: Multithreading can simplify the design of a program by allowing it to be divided into smaller, more manageable parts. This can make it easier to write, test, and debug the program.\n",
    "\n",
    "Disadvantages:\n",
    "\n",
    "Increased complexity: Multithreaded programs are generally more complex than single-threaded programs, and can be more difficult to write, test, and debug.\n",
    "\n",
    "Synchronization issues: Multithreading requires careful synchronization of data and resources between threads to avoid issues such as race conditions, deadlocks, and other concurrency-related bugs.\n",
    "\n",
    "Overhead: Multithreading adds overhead to a program, both in terms of memory usage and processing time. The overhead of creating and managing threads can sometimes outweigh the benefits of multithreading.\n",
    "\n",
    "Debugging difficulties: Debugging multithreaded programs can be difficult due to the non-deterministic nature of thread execution. Bugs may only appear under certain thread scheduling conditions, making them difficult to reproduce and diagnose."
   ]
  },
  {
   "cell_type": "markdown",
   "id": "bdfabbbc-1ced-4ea9-90b1-106cfb17c10f",
   "metadata": {},
   "source": [
    "Question 6: Explain deadlocks and race conditions."
   ]
  },
  {
   "cell_type": "markdown",
   "id": "7fdfbfb3-b3cb-418f-bf11-d863cf6614ec",
   "metadata": {},
   "source": [
    "Deadlock and race condition are two common types of concurrency-related bugs that can occur in multithreaded programs.\n",
    "\n",
    "Deadlock: A deadlock occurs when two or more threads are blocked, waiting for each other to release resources they need to continue execution. This results in a situation where no thread can make progress and the program appears to hang. Deadlocks can occur when threads compete for exclusive access to resources, such as shared memory or a network socket.\n",
    "\n",
    "Race condition: A race condition occurs when the behavior of a program depends on the order or timing of thread execution. Specifically, it occurs when two or more threads access a shared resource in an unpredictable order, resulting in unexpected behavior. For example, if two threads both try to write to the same variable at the same time, the final value of the variable will depend on the order in which the writes occur.\n",
    "\n",
    "Both deadlocks and race conditions can be difficult to detect and diagnose, as they may only occur under certain conditions or with certain inputs. Debugging these types of bugs often requires careful analysis of thread scheduling and resource usage, as well as extensive testing and verification of the program's behavior. Proper use of synchronization primitives such as locks, semaphores, and barriers can help prevent these bugs from occurring in the first place."
   ]
  }
 ],
 "metadata": {
  "kernelspec": {
   "display_name": "Python 3 (ipykernel)",
   "language": "python",
   "name": "python3"
  },
  "language_info": {
   "codemirror_mode": {
    "name": "ipython",
    "version": 3
   },
   "file_extension": ".py",
   "mimetype": "text/x-python",
   "name": "python",
   "nbconvert_exporter": "python",
   "pygments_lexer": "ipython3",
   "version": "3.10.8"
  }
 },
 "nbformat": 4,
 "nbformat_minor": 5
}
